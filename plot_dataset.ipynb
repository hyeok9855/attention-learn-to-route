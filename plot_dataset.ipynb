{
 "cells": [
  {
   "cell_type": "code",
   "execution_count": null,
   "metadata": {},
   "outputs": [],
   "source": [
    "import os\n",
    "import pickle\n",
    "import random\n",
    "\n",
    "import numpy as np\n",
    "import matplotlib.pyplot as plt\n",
    "\n",
    "def plot_tsp(xy, tour, ax1, title_prefix=None):\n",
    "    \"\"\"\n",
    "    Plot the TSP tour on matplotlib axis ax1.\n",
    "    \"\"\"\n",
    "    \n",
    "    ax1.set_xlim(0, 1)\n",
    "    ax1.set_ylim(0, 1)\n",
    "    \n",
    "    xs, ys = xy[tour].transpose()\n",
    "    xs, ys = xy[tour].transpose()\n",
    "    dx = np.roll(xs, -1) - xs\n",
    "    dy = np.roll(ys, -1) - ys\n",
    "    d = np.sqrt(dx * dx + dy * dy)\n",
    "    lengths = d.cumsum()\n",
    "    \n",
    "    # Scatter nodes\n",
    "    ax1.scatter(xs, ys, s=40, color='blue')\n",
    "    # Starting node\n",
    "    ax1.scatter([xs[0]], [ys[0]], s=100, color='red')\n",
    "    \n",
    "    # Arcs\n",
    "    qv = ax1.quiver(\n",
    "        xs, ys, dx, dy,\n",
    "        scale_units='xy',\n",
    "        angles='xy',\n",
    "        scale=1,\n",
    "    )\n",
    "    \n",
    "    ax1.set_title(f\"{title_prefix} / {len(tour)} nodes, total length {lengths[-1]:.2f}\")"
   ]
  },
  {
   "cell_type": "code",
   "execution_count": null,
   "metadata": {},
   "outputs": [],
   "source": [
    "with open(f\"data/tsp_hard/tsp_hard100_val_set_1000_cluster9_seed9999.pkl\", \"rb\") as fp:\n",
    "    instances = pickle.load(fp)\n",
    "with open(f\"results/tsp/tsp_hard100_val_set_1000_cluster9_seed9999/tsp_hard100_val_set_1000_cluster9_seed9999n1000-concorde.pkl\", \"rb\") as fp:\n",
    "    solver_result_tuples = pickle.load(fp)[0]\n",
    "with open(f\"eval_results_hard/tsp/tsp_hard100_val_set_1000_cluster9_seed9999/tsp_hard100_val_set_1000_cluster9_seed9999-tsp100_am_roll_sd1234_20220921T020242_epoch-99-greedy-t1-0-1000.pkl\", \"rb\") as fp:\n",
    "    learner_result_tuples1 = pickle.load(fp)[0]\n",
    "with open(f\"eval_results_hard/tsp/tsp_hard100_val_set_1000_cluster9_seed9999/tsp_hard100_val_set_1000_cluster9_seed9999-wo_graph_embedding_20221025T152744_epoch-98-greedy-t1-0-1000.pkl\", \"rb\") as fp:\n",
    "    learner_result_tuples2 = pickle.load(fp)[0]"
   ]
  },
  {
   "cell_type": "code",
   "execution_count": null,
   "metadata": {},
   "outputs": [],
   "source": [
    "fig, axes = plt.subplots(1, 3, figsize=(15, 5))\n",
    "\n",
    "random_idx = random.randint(0, len(instances) - 1)\n",
    "plot_tsp(np.array(instances[random_idx]), solver_result_tuples[random_idx][1], axes[0], \"Solver\")\n",
    "plot_tsp(np.array(instances[random_idx]), learner_result_tuples1[random_idx][1], axes[1], \"Learner1\")\n",
    "plot_tsp(np.array(instances[random_idx]), learner_result_tuples2[random_idx][1], axes[2], \"Learner2\")"
   ]
  },
  {
   "cell_type": "code",
   "execution_count": null,
   "metadata": {},
   "outputs": [],
   "source": []
  }
 ],
 "metadata": {
  "kernelspec": {
   "display_name": "Python 3.9.13 ('nco-am')",
   "language": "python",
   "name": "python3"
  },
  "language_info": {
   "codemirror_mode": {
    "name": "ipython",
    "version": 3
   },
   "file_extension": ".py",
   "mimetype": "text/x-python",
   "name": "python",
   "nbconvert_exporter": "python",
   "pygments_lexer": "ipython3",
   "version": "3.9.13"
  },
  "orig_nbformat": 4,
  "vscode": {
   "interpreter": {
    "hash": "3ab1f316081f461e16dd29adcf1574f7d63d7057a7f05721594f80ddeeb25f70"
   }
  }
 },
 "nbformat": 4,
 "nbformat_minor": 2
}
